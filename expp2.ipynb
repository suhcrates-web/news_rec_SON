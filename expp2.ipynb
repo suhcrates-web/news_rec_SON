{
 "cells": [
  {
   "cell_type": "code",
   "execution_count": 1,
   "metadata": {},
   "outputs": [],
   "source": [
    "import redis\n",
    "from redis import ConnectionPool\n",
    "import numpy as np\n",
    "\n",
    "pool1 = ConnectionPool(host='localhost', port=6379, db=1)\n",
    "r1 = redis.Redis(connection_pool=pool1)\n",
    "pool4 = ConnectionPool(host='localhost', port=6379, db=4)\n",
    "r4 = redis.Redis(connection_pool=pool4)\n",
    "pool2 = ConnectionPool(host='localhost', port=6379, db=2)\n",
    "r2 = redis.Redis(connection_pool=pool2)\n"
   ]
  },
  {
   "cell_type": "code",
   "execution_count": 2,
   "metadata": {},
   "outputs": [],
   "source": [
    "key_list = list(r1.keys())"
   ]
  },
  {
   "cell_type": "code",
   "execution_count": 5,
   "metadata": {},
   "outputs": [
    {
     "name": "stdout",
     "output_type": "stream",
     "text": [
      "0.0024775664241048264\n",
      "4197\n"
     ]
    }
   ],
   "source": [
    "\n",
    "div0 = len(key_list)\n",
    "jav0 = 0\n",
    "for ga in key_list:\n",
    "    ga = ga.decode()\n",
    "    if len(ga) > 40:\n",
    "        # u_vec = r1.get(ga)\n",
    "        # u_vec = np.frombuffer(u_vec, dtype='float32')\n",
    "        jav0 +=1\n",
    "        # break\n",
    "print(jav0/div0)\n",
    "print(jav0)"
   ]
  },
  {
   "cell_type": "code",
   "execution_count": 130,
   "metadata": {},
   "outputs": [],
   "source": [
    "# a = []\n",
    "# a.append(u_vec)\n",
    "gid=1"
   ]
  },
  {
   "cell_type": "code",
   "execution_count": 131,
   "metadata": {},
   "outputs": [
    {
     "name": "stdout",
     "output_type": "stream",
     "text": [
      "{}\n"
     ]
    }
   ],
   "source": [
    "dic = r4.get('a')\n",
    "if dic == None and gid != None:\n",
    "    dic = {}\n",
    "print(dic)"
   ]
  },
  {
   "cell_type": "code",
   "execution_count": 132,
   "metadata": {},
   "outputs": [
    {
     "data": {
      "text/plain": [
       "5184000"
      ]
     },
     "execution_count": 132,
     "metadata": {},
     "output_type": "execute_result"
    }
   ],
   "source": [
    "\n",
    "60*60*24*60"
   ]
  },
  {
   "cell_type": "code",
   "execution_count": 2,
   "metadata": {},
   "outputs": [
    {
     "name": "stdout",
     "output_type": "stream",
     "text": [
      "7922\n"
     ]
    }
   ],
   "source": [
    "import pickle\n",
    "\n",
    "keys0 = r4.keys()\n",
    "print(len(keys0))\n",
    "# a = np.random.rand(50,50)"
   ]
  },
  {
   "cell_type": "code",
   "execution_count": 55,
   "metadata": {},
   "outputs": [
    {
     "data": {
      "text/plain": [
       "True"
      ]
     },
     "execution_count": 55,
     "metadata": {},
     "output_type": "execute_result"
    }
   ],
   "source": [
    "# %%timeit\n",
    "temp = {'gids':['123','234','567'], 'vecs':a, 'centroids':[]}\n",
    "r4.set(ga, pickle.dumps(temp))"
   ]
  },
  {
   "cell_type": "code",
   "execution_count": 6,
   "metadata": {},
   "outputs": [],
   "source": [
    "dics4 = pickle.loads(r4.get(keys0[1].decode()))"
   ]
  },
  {
   "cell_type": "code",
   "execution_count": 7,
   "metadata": {},
   "outputs": [
    {
     "data": {
      "text/plain": [
       "{'gids': ['122956258',\n",
       "  '122956363',\n",
       "  '122937731',\n",
       "  '122974605',\n",
       "  '122979692',\n",
       "  '122979438',\n",
       "  '122984406',\n",
       "  '122984529',\n",
       "  '122984665',\n",
       "  '122993832',\n",
       "  '123005904',\n",
       "  '122993319',\n",
       "  '123007474',\n",
       "  '123004908',\n",
       "  '123013257',\n",
       "  '122966686',\n",
       "  '123022113',\n",
       "  '123013297',\n",
       "  '123026562',\n",
       "  '123026540',\n",
       "  '123026295'],\n",
       " 'vecs': [array([-0.35011777,  2.0049953 , -1.0384916 , -2.1071196 , -0.01453706,\n",
       "         -0.3700619 , -3.4070036 ,  6.3786216 , -0.45327166,  0.7240358 ,\n",
       "         -1.220813  , -1.6977396 , -0.11469403,  0.50120217, -4.682225  ,\n",
       "         -3.2946243 , -3.4653642 ,  0.7779932 , -2.3734372 ,  1.2502095 ,\n",
       "         -2.5388062 ,  1.1926202 ,  0.97341937,  1.2067052 ,  2.777875  ,\n",
       "          2.8949099 , -0.3402907 , -1.0989608 ,  1.5996015 ,  1.9089284 ,\n",
       "          4.571668  ,  1.688452  ,  0.3425163 , -1.9389842 ,  2.0137746 ,\n",
       "          1.5147836 , -2.6484008 ,  0.9730725 ,  0.51181066, -0.02433713,\n",
       "          2.9047441 ,  3.5823722 , -0.26192644, -0.6497909 ,  1.185812  ,\n",
       "         -2.6470435 , -1.6382765 ,  1.8300301 ,  1.3768828 ,  7.4210615 ],\n",
       "        dtype=float32),\n",
       "  array([-3.21658587e+00, -4.95303988e-01, -1.60388184e+00,  1.23888099e+00,\n",
       "         -6.46438718e-01,  4.38007736e+00, -1.10585082e+00,  2.03866586e-01,\n",
       "          9.20935154e-01,  2.31925082e+00,  3.10716748e+00,  2.77588701e+00,\n",
       "          1.05169356e-01,  3.66878271e-01,  2.35627532e+00, -9.20287132e-01,\n",
       "         -1.27496338e-03,  1.19854176e+00, -7.25141346e-01, -3.83263128e-03,\n",
       "         -1.35826957e+00, -1.78767174e-01,  1.98868942e+00,  4.61417246e+00,\n",
       "          1.76674807e+00,  2.11215806e+00,  1.11935318e+00,  3.44353504e-02,\n",
       "          4.60316777e-01, -4.10960770e+00,  1.16235864e+00,  7.91431487e-01,\n",
       "         -1.61660957e+00,  6.67350411e-01,  3.71840811e+00,  6.15032375e-01,\n",
       "          3.28810573e+00, -4.40519720e-01, -1.53532803e+00, -1.44003105e+00,\n",
       "         -3.45543057e-01,  1.50397503e+00, -8.45367849e-01,  2.76053929e+00,\n",
       "         -4.05404687e-01,  1.64480579e+00,  3.09904337e+00,  9.92423952e-01,\n",
       "         -6.33670092e-01,  1.13360095e+00], dtype=float32),\n",
       "  array([ 1.6547382 , -1.0035893 , -0.24001186, -1.4419197 , -0.322446  ,\n",
       "         -2.36739   ,  0.3303472 ,  1.2856222 , -2.6813912 , -1.842895  ,\n",
       "          2.9937267 , -0.76752234, -0.613608  , -1.0564789 , -0.6045156 ,\n",
       "         -0.02093172,  0.6472964 ,  2.838395  , -2.4479644 ,  0.6516465 ,\n",
       "         -0.28807446, -1.3068471 , -3.2157197 , -0.20652598, -1.2785296 ,\n",
       "          0.8015449 , -2.8844666 ,  2.0703325 , -0.05566822, -0.97844416,\n",
       "          3.2423007 ,  1.6692888 , -0.31764758, -1.1123616 , -0.6894738 ,\n",
       "          2.2514315 , -1.2509059 ,  1.3465248 , -1.6677978 , -0.49485338,\n",
       "          3.4634802 ,  0.20827788,  1.5488627 , -0.71195245,  2.4365544 ,\n",
       "          0.1601819 , -0.48455277, -3.1287956 ,  0.16083778,  1.737553  ],\n",
       "        dtype=float32),\n",
       "  array([ 0.20708852, -1.9340856 , -3.413012  , -1.4323028 , -0.9830568 ,\n",
       "         -0.6224448 ,  0.48892006,  1.2437086 , -2.1023579 , -1.4195828 ,\n",
       "          1.7101536 ,  1.1967171 , -1.0015379 , -1.8935802 , -1.1947197 ,\n",
       "          3.0174463 ,  1.9394981 ,  1.8218957 , -4.879249  , -2.1664925 ,\n",
       "         -0.12482069, -3.3122602 , -3.8288944 , -0.8444413 , -0.84137654,\n",
       "          2.209532  , -0.71567756, -1.1744452 ,  0.66162026,  0.69033474,\n",
       "          1.7193973 , -0.7516583 , -0.14132157,  0.48718044, -0.3247415 ,\n",
       "          1.8520278 , -2.2486367 , -1.9861516 , -1.7681633 ,  0.39479217,\n",
       "         -0.91243   , -0.7625564 ,  1.1412656 , -1.4948539 ,  1.4840161 ,\n",
       "          2.3770034 ,  0.06694271, -0.45285845,  1.7392665 ,  1.0749805 ],\n",
       "        dtype=float32),\n",
       "  array([-0.6732904 ,  0.7206077 ,  0.93656087, -2.8539648 ,  1.6570065 ,\n",
       "          2.3217244 ,  0.40707228,  5.855554  , -2.7466755 ,  1.4738392 ,\n",
       "         -3.856876  , -3.021387  , -0.4321271 ,  4.264888  , -2.3961675 ,\n",
       "          3.637819  ,  0.11712277,  2.2904146 ,  2.0634532 , -3.5787935 ,\n",
       "         -0.80652934,  0.27217066,  1.717156  , -0.5250339 , -2.7281275 ,\n",
       "          1.1860723 ,  1.8094469 ,  2.083414  , -3.3026867 , -4.0198026 ,\n",
       "          5.476657  ,  2.479553  ,  0.72419304,  1.6280462 ,  0.1249935 ,\n",
       "          3.2987409 ,  1.8774303 , -0.995167  , -1.0009439 , -1.774013  ,\n",
       "          0.4354469 , -3.1082778 ,  1.0924765 , -1.1534507 ,  1.4258568 ,\n",
       "         -3.795918  ,  3.7136655 , -1.4113827 ,  1.0039252 ,  2.8308864 ],\n",
       "        dtype=float32),\n",
       "  array([-0.8727423 , -0.14431311,  0.90194124, -1.360643  , -0.7896898 ,\n",
       "          0.08343229,  1.7115712 ,  0.44888148, -0.739426  ,  0.3532942 ,\n",
       "          4.645954  ,  0.66720456,  0.6472982 , -2.0771232 ,  0.6482256 ,\n",
       "         -1.8881277 ,  2.1191125 ,  0.14909095,  1.2678026 , -2.2325938 ,\n",
       "         -3.6896183 , -1.6224651 , -1.9553972 ,  1.0278842 ,  0.15765327,\n",
       "         -1.2249194 , -0.46968114,  1.6800059 , -1.17501   ,  1.6715435 ,\n",
       "          1.3457426 ,  1.0983313 , -0.25997594,  2.758943  , -0.24895254,\n",
       "          2.7326903 , -0.39726812, -1.6744981 , -1.1622875 , -0.3134138 ,\n",
       "          2.813516  ,  1.1921723 , -0.3060585 ,  0.03558894,  1.5649388 ,\n",
       "         -1.4070399 , -0.45473453, -3.2016566 ,  1.6953124 ,  3.1182625 ],\n",
       "        dtype=float32),\n",
       "  array([-3.8100169 ,  0.4379133 , -2.2883885 ,  1.0671352 , -1.3105458 ,\n",
       "         -0.8674647 ,  1.3059648 ,  1.3550429 , -1.4084955 , -1.8605164 ,\n",
       "          2.3451726 ,  1.6914132 , -0.616859  , -4.235823  , -0.6964658 ,\n",
       "          1.5929747 ,  4.3450003 ,  0.5390221 , -4.991404  , -1.521135  ,\n",
       "          1.6616267 , -0.99721086, -2.4292066 ,  1.0603256 , -1.4438647 ,\n",
       "          1.3591439 , -1.5633628 , -2.425146  ,  0.72582024, -0.5467985 ,\n",
       "          0.9357056 ,  2.3034208 ,  2.1690784 , -1.1125299 , -1.4063915 ,\n",
       "          0.88969177, -1.5823447 , -1.6215684 ,  0.14094421, -0.44565752,\n",
       "          0.12010169, -0.47082296,  2.178089  , -1.8719789 ,  2.5344648 ,\n",
       "          1.8773993 ,  1.0463426 , -3.643746  , -1.3325056 ,  1.0090204 ],\n",
       "        dtype=float32),\n",
       "  array([-0.5097761 , -2.9193423 , -3.4881792 , -1.1831518 , -0.13544376,\n",
       "         -0.80935484,  0.09095175, -1.4152104 , -2.6811018 , -0.2248523 ,\n",
       "         -0.88011956, -1.3136015 ,  1.5546594 , -1.3361043 , -0.49340418,\n",
       "          3.4324384 ,  0.79501414,  1.6254125 , -3.4950426 , -1.8524631 ,\n",
       "          1.9461995 , -2.554341  , -0.44291386, -1.2886014 , -1.4983861 ,\n",
       "          0.44702375, -1.780658  ,  1.6301659 , -0.50684166, -3.248536  ,\n",
       "         -0.12198805,  0.39735472, -0.60616475,  0.5633641 ,  0.03205947,\n",
       "          3.7256615 , -1.0562863 , -3.2822113 , -0.9345454 , -1.1346959 ,\n",
       "          0.36702266,  0.19668975,  0.8169993 , -1.575438  ,  2.4706593 ,\n",
       "          2.5896432 ,  0.86607563,  0.3662313 ,  1.4680451 ,  1.7965367 ],\n",
       "        dtype=float32),\n",
       "  array([-3.8140042 , -2.4834971 , -2.913536  ,  0.85301995, -0.5211136 ,\n",
       "         -1.5902294 ,  0.17139043,  0.6257582 , -0.12003238,  0.04557042,\n",
       "          1.2448165 ,  0.21643156,  0.952177  ,  1.1720028 , -3.870444  ,\n",
       "          0.05306999,  1.4226555 ,  2.342877  , -3.1024504 , -3.7712977 ,\n",
       "         -0.76787096, -2.6791089 , -1.5460509 ,  2.5122166 , -1.6075565 ,\n",
       "         -0.71851355, -1.5541312 ,  3.4554658 , -2.234837  , -1.2541655 ,\n",
       "          1.5852352 ,  0.3901003 , -0.20763549,  0.5587019 ,  0.48734987,\n",
       "         -1.4795833 , -4.7823305 , -0.47198927, -0.351467  , -0.8108306 ,\n",
       "          2.6601167 ,  1.2866709 ,  1.0364101 , -0.5450813 ,  3.3108976 ,\n",
       "         -0.01262995,  0.6044787 , -1.570923  ,  0.21538757,  2.6615124 ],\n",
       "        dtype=float32),\n",
       "  array([-0.24855277, -2.4123628 ,  0.128762  , -2.8817458 ,  0.52516454,\n",
       "         -0.60857207,  0.05836537,  2.1037903 , -1.0202701 ,  0.17382023,\n",
       "         -2.0385444 , -0.25020862,  0.6224532 ,  1.8957998 , -2.2751665 ,\n",
       "          1.9532406 , -0.7719182 ,  1.3057638 , -0.31262398,  0.34745622,\n",
       "         -1.0524287 , -2.2936864 ,  0.4870898 ,  2.0864043 ,  0.5008023 ,\n",
       "          0.29996133, -2.1791391 ,  0.27957165, -1.525871  , -4.598418  ,\n",
       "          2.9863563 , -0.37945554,  2.166718  , -3.725473  , -1.7820859 ,\n",
       "          1.1396312 , -1.2220756 , -2.1643562 , -0.4252876 , -1.7073592 ,\n",
       "          0.7477411 , -2.1064503 ,  2.7586422 , -2.6680675 ,  4.6086793 ,\n",
       "         -0.45353726,  1.9667255 ,  0.21252276,  0.85536593,  5.480968  ],\n",
       "        dtype=float32),\n",
       "  array([ 0.77881455, -3.208498  , -2.9182057 , -0.61727434, -0.43416658,\n",
       "         -1.2741644 ,  0.6223795 ,  0.4018668 ,  0.5288926 ,  1.51256   ,\n",
       "          4.909702  , -4.4624443 , -3.632099  , -1.1947978 , -2.1830916 ,\n",
       "          3.1859596 , -4.8733644 ,  5.213362  , -4.076623  , -2.901563  ,\n",
       "          2.4229324 , -2.6507814 , -1.4174414 ,  1.39469   ,  0.9364473 ,\n",
       "          0.0850227 , -4.6407557 , -0.29026866, -3.0069118 , -4.323748  ,\n",
       "          1.1749601 ,  2.113299  ,  2.1598012 ,  1.654759  ,  2.449665  ,\n",
       "         -3.9997041 , -0.89344525, -5.191698  , -0.18829872, -1.7274235 ,\n",
       "          2.889258  ,  3.432139  ,  3.1244023 , -0.19940814, -1.1094524 ,\n",
       "          1.7765001 , -0.3386515 , -0.60528356,  0.32517815,  2.1072404 ],\n",
       "        dtype=float32),\n",
       "  array([-3.3700912 , -1.2210189 , -1.458161  , -0.40076897, -1.2504241 ,\n",
       "          1.5574491 , -0.7814998 , -0.725083  ,  0.73248565, -1.3399284 ,\n",
       "          0.7797309 , -1.1551352 , -0.0611589 ,  4.8340306 , -0.773359  ,\n",
       "         -0.42010376,  0.20796579,  3.072669  , -0.900242  , -1.3307317 ,\n",
       "          0.5476842 , -0.82475585,  0.38771826,  2.4291673 , -2.4340975 ,\n",
       "          1.0709238 , -3.1790082 ,  4.801625  ,  1.5991635 , -1.7616917 ,\n",
       "          1.5586782 , -1.0607414 ,  1.1547813 ,  0.2735013 ,  0.983182  ,\n",
       "          1.0680524 ,  0.3569806 , -0.22447923, -2.8591585 ,  0.26915368,\n",
       "          0.4881911 , -1.924275  , -1.7781717 , -0.70185244,  1.5675915 ,\n",
       "          0.21154702,  0.08820575, -1.7167104 ,  1.234741  ,  2.3531826 ],\n",
       "        dtype=float32),\n",
       "  array([-4.7070637e-01, -1.1329504e+00, -2.7197533e+00, -6.1253840e-01,\n",
       "          5.7521236e-01,  1.9894791e+00, -2.5160669e-03,  8.6628371e-01,\n",
       "          6.0477263e-01, -2.2941494e+00, -7.4546361e-01, -2.5815329e-01,\n",
       "          2.9489167e+00,  1.3341840e-01,  6.0995018e-01, -1.8703592e+00,\n",
       "          1.0613023e+00,  7.2712409e-01, -2.6290970e+00, -1.1577285e-01,\n",
       "         -2.5555017e+00, -1.7518200e-01, -1.5864050e+00,  3.2946475e+00,\n",
       "          7.1200979e-01, -9.2778039e-01, -2.2514982e+00,  1.6131598e+00,\n",
       "         -2.9501040e+00, -2.8869885e-01,  2.2134094e+00,  2.3637056e+00,\n",
       "         -5.1484323e-01, -1.5623061e-01, -5.9758985e-01,  7.5660414e-01,\n",
       "          2.1323915e-01, -3.2877388e+00,  6.0690295e-02,  8.7177157e-01,\n",
       "         -7.5873846e-01,  8.7661719e-01,  2.2180238e+00, -1.3972868e-01,\n",
       "          2.4450567e+00,  1.6210054e+00, -1.6677172e+00, -2.3351495e+00,\n",
       "          2.4844611e+00, -1.6698208e+00], dtype=float32),\n",
       "  array([-1.1878098 ,  0.80324453, -1.4902229 ,  1.0712324 , -2.2504585 ,\n",
       "         -1.1708575 ,  1.0779638 ,  1.2206475 , -0.48158273, -1.808593  ,\n",
       "          0.5758095 ,  2.9452596 ,  2.582225  ,  2.967594  , -2.030688  ,\n",
       "         -0.3286932 ,  1.2275039 ,  1.7506092 , -2.1514473 , -3.6787148 ,\n",
       "          1.4089136 , -2.4626818 , -1.1767926 ,  0.9661236 ,  2.111584  ,\n",
       "          0.03581291, -1.8061236 ,  0.0426989 , -2.639776  , -1.9779123 ,\n",
       "          0.79596883,  0.7096321 , -0.0907236 , -0.6533084 ,  0.90688187,\n",
       "         -0.0568409 , -1.6055273 ,  0.94566303, -2.395258  ,  0.93172234,\n",
       "          1.09626   ,  4.150272  , -0.37365395, -0.8691804 , -1.113458  ,\n",
       "         -0.8102913 ,  1.6303066 , -0.70464104,  0.15192777,  1.447855  ],\n",
       "        dtype=float32),\n",
       "  array([-1.452418  ,  2.118106  , -2.5666125 ,  0.331983  ,  0.5715243 ,\n",
       "          0.99818516,  1.880529  , -0.9960676 , -0.51052177, -0.5104962 ,\n",
       "          2.4408731 , -2.0823019 , -4.2811003 , -1.2731237 ,  0.820755  ,\n",
       "         -1.7346025 , -1.4314157 ,  4.355345  , -2.1811564 , -2.4049847 ,\n",
       "          0.1135529 ,  3.6172884 ,  0.78410023,  0.99929917,  1.1094512 ,\n",
       "          1.0641067 , -0.37473056,  1.1207277 ,  1.1072221 , -1.3015488 ,\n",
       "         -0.94478625,  0.8954854 , -1.5966505 ,  4.3806844 ,  1.8850967 ,\n",
       "          0.28910974,  3.0965614 , -1.1257404 ,  3.0019255 ,  1.2249993 ,\n",
       "          2.712024  ,  1.1222929 , -3.2694824 ,  0.06383481,  1.8371719 ,\n",
       "          1.6773746 , -0.4105836 , -1.6019542 , -0.7705748 , -1.2712742 ],\n",
       "        dtype=float32),\n",
       "  array([-0.25404188, -3.6007323 , -2.2149944 ,  0.37656102,  2.0702114 ,\n",
       "         -2.7284942 ,  0.45862052, -0.6576281 , -0.88195956, -1.176645  ,\n",
       "          0.8938635 ,  0.29660633,  2.538172  ,  3.959358  ,  0.9483077 ,\n",
       "         -0.5673725 , -0.10589042,  3.6151283 , -0.18337356, -3.0183883 ,\n",
       "          0.7463637 , -3.041049  ,  0.4320258 ,  2.2864053 ,  0.7766199 ,\n",
       "          2.924905  , -4.0825043 ,  1.5672637 , -2.4309616 , -3.2443066 ,\n",
       "          0.8657976 , -0.47189182, -0.77687913, -0.52953297, -0.9760764 ,\n",
       "          1.4927348 , -2.4916928 ,  0.19227736,  0.11924474, -1.2642113 ,\n",
       "          1.5076753 ,  1.5352745 ,  2.586564  , -2.311931  ,  2.1470702 ,\n",
       "          1.8803061 ,  1.2746017 , -2.462519  ,  1.1898571 ,  1.9621359 ],\n",
       "        dtype=float32),\n",
       "  array([-1.0819228 ,  1.8880556 ,  1.5196195 , -0.76449686, -1.7274363 ,\n",
       "         -0.565882  ,  1.4732249 ,  0.77131814, -0.5084083 ,  0.9418284 ,\n",
       "          3.7854714 , -0.0283604 ,  2.6125612 , -1.2588617 ,  0.39158088,\n",
       "          0.74919885,  1.0243162 , -1.4567703 ,  0.06564181, -1.1163093 ,\n",
       "         -1.4360294 , -3.2788017 , -2.1950085 ,  0.1423197 , -0.77437824,\n",
       "          3.588327  ,  1.7203579 , -0.2835182 ,  0.7027312 , -2.3014476 ,\n",
       "          0.21196516,  3.4234385 , -0.4773135 ,  0.48859653, -1.3625021 ,\n",
       "          1.5804446 , -1.3576189 , -0.7531681 , -1.7088925 , -1.5473931 ,\n",
       "          1.5815629 ,  0.3824106 , -1.3975387 , -0.542568  ,  2.8514087 ,\n",
       "          1.792226  , -0.24983025, -3.7411172 ,  2.554696  , -0.21150044],\n",
       "        dtype=float32),\n",
       "  array([-3.3743703 ,  0.1432808 , -0.47666064,  0.09400636,  1.6911306 ,\n",
       "          2.2335079 , -0.08229242, -0.44910288, -1.7051349 , -3.0985544 ,\n",
       "          3.0383184 ,  2.5363574 ,  1.4119335 ,  1.3381314 ,  0.35354787,\n",
       "          0.9824777 ,  1.4061891 ,  2.6691334 , -2.4041014 , -3.0845637 ,\n",
       "         -2.2394779 , -1.2860943 , -0.4519817 ,  0.38253018,  0.5767021 ,\n",
       "          0.9609194 , -1.6604224 , -1.4522752 ,  0.87013495,  0.99274015,\n",
       "          0.6494182 , -0.59141773, -0.9553971 ,  0.845226  , -0.06451982,\n",
       "          1.8273423 ,  0.6468972 , -0.64286864,  2.5176215 , -0.92423916,\n",
       "         -0.370941  ,  1.2759637 , -1.0041487 ,  1.0423497 ,  1.4461886 ,\n",
       "          0.05049945, -1.6791829 , -0.38790023,  1.8007553 , -1.9942236 ],\n",
       "        dtype=float32),\n",
       "  array([-4.1213613 ,  0.7077071 ,  0.31414104, -1.1437824 , -0.49762556,\n",
       "          1.023783  ,  0.74805707, -1.2791512 , -0.36591423, -0.47985247,\n",
       "          0.3337246 , -1.2312281 , -2.7828975 , -0.99676645,  0.05255015,\n",
       "         -3.154815  ,  1.057018  ,  2.0218816 , -1.295251  ,  0.47115162,\n",
       "          1.3502775 ,  0.550737  ,  2.0777411 ,  3.622398  ,  0.58790725,\n",
       "          3.119342  , -1.0565587 ,  0.07193975, -1.0226287 , -4.8597646 ,\n",
       "         -1.0067382 ,  1.9251436 , -1.9024873 , -1.8138095 ,  2.4452236 ,\n",
       "          0.37123936, -0.87805575,  0.44384363, -0.04709869, -1.6394632 ,\n",
       "          3.097371  , -0.3153815 , -1.6080649 , -0.10265733, -0.04259378,\n",
       "          4.374733  ,  1.4712024 ,  0.96300685, -1.1334049 ,  3.1688073 ],\n",
       "        dtype=float32),\n",
       "  array([-2.0485506e+00, -1.1633064e+00, -2.0727675e+00, -1.6457087e+00,\n",
       "          9.1206682e-01,  2.5943382e+00, -3.3978561e-03,  1.1767353e+00,\n",
       "         -2.0025232e+00, -1.9987344e+00,  1.0364096e+00, -1.4384112e+00,\n",
       "          1.2539949e+00,  1.1029623e+00,  3.4334824e+00, -2.7396562e+00,\n",
       "          9.9719805e-01, -1.0607387e+00, -1.3187461e+00, -1.9158146e+00,\n",
       "         -1.1915619e+00,  1.5306487e+00, -1.2632016e+00, -2.4574450e-01,\n",
       "         -5.3927774e+00,  1.2548368e+00, -1.8508744e+00,  3.7172961e+00,\n",
       "         -1.2334609e+00,  1.2847812e+00,  3.2178047e-03,  2.2185571e+00,\n",
       "         -2.7615447e+00,  3.6335971e+00, -1.0828540e-01,  3.9268274e+00,\n",
       "          6.8248200e-01, -1.1937356e+00, -6.9898427e-01,  8.2075560e-01,\n",
       "          2.2748854e+00, -9.9448466e-01,  1.0582068e+00, -3.7553516e-01,\n",
       "          2.3877234e+00,  2.9421934e-01, -2.8309610e+00, -4.0480471e+00,\n",
       "         -7.8698957e-01,  1.5166945e+00], dtype=float32),\n",
       "  array([-0.47430757, -1.0963604 ,  1.2628154 , -2.8961666 ,  0.8486552 ,\n",
       "          0.40399402,  1.5845262 ,  5.687253  , -0.7443258 ,  0.86609924,\n",
       "         -0.8644288 , -1.3691156 , -2.2485743 ,  1.7186114 ,  0.86160505,\n",
       "          1.7561743 , -1.1950617 ,  3.6619523 ,  1.6748501 , -1.9080789 ,\n",
       "         -1.3020477 ,  1.5910413 ,  2.3549488 ,  1.5727841 , -0.5991064 ,\n",
       "          0.18721345,  1.9551665 ,  2.0214286 , -3.2962577 , -4.523999  ,\n",
       "          3.1051254 ,  0.03594355,  3.171993  ,  1.289368  ,  0.48010868,\n",
       "          0.54662335,  2.1473188 , -1.7353477 , -1.6936644 , -2.8289473 ,\n",
       "          0.7896716 ,  0.88916403,  1.5406809 , -0.8030007 , -1.1288989 ,\n",
       "         -1.2933973 ,  2.1677566 , -0.24353199,  0.84807587,  2.2536376 ],\n",
       "        dtype=float32)],\n",
       " 'cent': []}"
      ]
     },
     "execution_count": 7,
     "metadata": {},
     "output_type": "execute_result"
    }
   ],
   "source": [
    "dics4"
   ]
  },
  {
   "cell_type": "code",
   "execution_count": null,
   "metadata": {},
   "outputs": [],
   "source": []
  },
  {
   "cell_type": "code",
   "execution_count": 57,
   "metadata": {},
   "outputs": [
    {
     "data": {
      "text/plain": [
       "{'gids': ['123', '234', '567'],\n",
       " 'vecs': array([[0.79550901, 0.60245424, 0.36005717, ..., 0.77207922, 0.80204819,\n",
       "         0.44424062],\n",
       "        [0.41725225, 0.61333284, 0.25757871, ..., 0.40076564, 0.56223642,\n",
       "         0.58777677],\n",
       "        [0.59067184, 0.9103236 , 0.13338425, ..., 0.59376608, 0.4012959 ,\n",
       "         0.26814231],\n",
       "        ...,\n",
       "        [0.53466494, 0.94846305, 0.27888819, ..., 0.15620999, 0.97385366,\n",
       "         0.54247466],\n",
       "        [0.4444277 , 0.99976971, 0.10024435, ..., 0.67959189, 0.60262889,\n",
       "         0.38898742],\n",
       "        [0.54850912, 0.33916974, 0.32065891, ..., 0.10071365, 0.18269685,\n",
       "         0.35162868]])}"
      ]
     },
     "execution_count": 57,
     "metadata": {},
     "output_type": "execute_result"
    }
   ],
   "source": [
    "# %%timeit\n",
    "pickle.loads(r4.get(ga))"
   ]
  },
  {
   "cell_type": "code",
   "execution_count": 94,
   "metadata": {},
   "outputs": [],
   "source": [
    "b = list(np.random.rand(10))\n"
   ]
  },
  {
   "cell_type": "code",
   "execution_count": 71,
   "metadata": {},
   "outputs": [
    {
     "data": {
      "text/plain": [
       "0.31377780379270803"
      ]
     },
     "execution_count": 71,
     "metadata": {},
     "output_type": "execute_result"
    }
   ],
   "source": [
    "b.pop(1)"
   ]
  },
  {
   "cell_type": "code",
   "execution_count": 123,
   "metadata": {},
   "outputs": [
    {
     "name": "stdout",
     "output_type": "stream",
     "text": [
      "[1, 1, 1, 1, 1, 1, 1, 1, 1, 1, 1, 1, 1, 1, 1, 1, 1, 1, 1, 1]\n"
     ]
    }
   ],
   "source": [
    "b.append(1)\n",
    "b= b[-20:]\n",
    "print(b)"
   ]
  },
  {
   "cell_type": "code",
   "execution_count": 4,
   "metadata": {},
   "outputs": [],
   "source": [
    "gid_num=[]\n",
    "for key0 in keys0:\n",
    "    dics4 = pickle.loads(r4.get(key0.decode()))\n",
    "    gid_num.append(len(dics4['gids']))"
   ]
  },
  {
   "cell_type": "code",
   "execution_count": 5,
   "metadata": {},
   "outputs": [
    {
     "name": "stdout",
     "output_type": "stream",
     "text": [
      "1  : 1774  : 0.224\n",
      "2  : 947  : 0.12\n",
      "3  : 651  : 0.082\n",
      "4  : 446  : 0.056\n",
      "5  : 327  : 0.041\n",
      "6  : 248  : 0.031\n",
      "7  : 184  : 0.023\n",
      "8  : 184  : 0.023\n",
      "9  : 164  : 0.021\n",
      "10  : 136  : 0.017\n",
      "11  : 110  : 0.014\n",
      "12  : 85  : 0.011\n",
      "13  : 85  : 0.011\n",
      "14  : 101  : 0.013\n",
      "15  : 79  : 0.01\n",
      "16  : 74  : 0.009\n",
      "17  : 50  : 0.006\n",
      "18  : 72  : 0.009\n",
      "19  : 68  : 0.009\n",
      "20  : 52  : 0.007\n",
      "21  : 45  : 0.006\n",
      "22  : 46  : 0.006\n",
      "23  : 32  : 0.004\n",
      "24  : 37  : 0.005\n",
      "25  : 43  : 0.005\n",
      "26  : 30  : 0.004\n",
      "27  : 24  : 0.003\n",
      "28  : 24  : 0.003\n",
      "29  : 35  : 0.004\n",
      "30  : 25  : 0.003\n",
      "31  : 31  : 0.004\n",
      "32  : 32  : 0.004\n",
      "33  : 32  : 0.004\n",
      "34  : 30  : 0.004\n",
      "35  : 17  : 0.002\n",
      "36  : 29  : 0.004\n",
      "37  : 30  : 0.004\n",
      "38  : 20  : 0.003\n",
      "39  : 32  : 0.004\n",
      "40  : 1491  : 0.188\n"
     ]
    }
   ],
   "source": [
    "for i in set(gid_num):\n",
    "    print(f\"{i}  : {gid_num.count(i)}  : {round(gid_num.count(i)/len(gid_num),3)}\")"
   ]
  },
  {
   "cell_type": "code",
   "execution_count": 6,
   "metadata": {},
   "outputs": [
    {
     "data": {
      "text/plain": [
       "(array([3818.,  943.,  495.,  339.,  242.,  160.,  121.,  123.,  108.,\n",
       "        1573.]),\n",
       " array([ 1. ,  4.9,  8.8, 12.7, 16.6, 20.5, 24.4, 28.3, 32.2, 36.1, 40. ]),\n",
       " <BarContainer object of 10 artists>)"
      ]
     },
     "execution_count": 6,
     "metadata": {},
     "output_type": "execute_result"
    },
    {
     "data": {
      "image/png": "[encoded data removed]",
      "text/plain": [
       "<Figure size 640x480 with 1 Axes>"
      ]
     },
     "metadata": {},
     "output_type": "display_data"
    }
   ],
   "source": [
    "from matplotlib import pyplot as plt\n",
    "plt.hist(gid_num)"
   ]
  },
  {
   "cell_type": "code",
   "execution_count": 6,
   "metadata": {},
   "outputs": [],
   "source": [
    "### 클러스터링해서 나오는 기사가 어떤게 있는지\n",
    "import mysql.connector\n",
    "from database import config\n",
    "db = mysql.connector.connect(**config)\n",
    "cursor = db.cursor()\n",
    "\n",
    "k_iter = iter(keys0)"
   ]
  },
  {
   "cell_type": "code",
   "execution_count": 7,
   "metadata": {},
   "outputs": [
    {
     "data": {
      "text/plain": [
       "b'f7490d964fc4007aaae7c97f98b96383d0a5d6eb7bd2f27b014853d8f3a5d011'"
      ]
     },
     "execution_count": 7,
     "metadata": {},
     "output_type": "execute_result"
    }
   ],
   "source": [
    "next(k_iter)"
   ]
  },
  {
   "cell_type": "code",
   "execution_count": 132,
   "metadata": {},
   "outputs": [
    {
     "name": "stdout",
     "output_type": "stream",
     "text": [
      "34\n",
      "[('“근육 운동으로 체중 41kg에서 51kg로…친구들이 못 알아봐요”[양종구의 100세 시대 건강법]',), ('서울대병원서 연락한 의사도 부산대병원 출신이었다 [이진한 의학전문기자의 메디컬 리포트]',), ('[사설]대학 無전공 선발 확대… 교육부 주도로는 또 ‘졸속’ 못 면할 것',), ('[사설]北 서해포격 때 이장이 집마다 다니며 대피 안내했다니',), ('[사설]부실 여론조사업체 30곳 등록 취소… ‘떴다방’ 감독 강화해야',), ('[사설]“남북 완충구역 없다”… 불시 도발에 철저 대비를',), ('[사설]실업급여 하한이 하루 6만3104원… 상한 기준 마저 넘을라',), ('[사설]폭증하는 초격차 기술 도둑… 높은 ‘法의 담장’ 없인 못 막는다',), ('한 사람 빠진 ‘원칙과 상식’, 민주당 탈당 [청계천 옆 사진관]',), ('北 도발에도 ‘진압봉 순찰’로 바뀐 해병대 해안경계작전[청계천 옆 사진관]',), ('동해안 호수의 경고 “뒤돌아보지 말라”[서광원의 자연과 삶]〈83〉',), ('[사설]‘청부민원’ ‘욕설회의’… 방송심의위를 심의해야 할 판',), ('[사설]‘30년 이상’ 안전진단 없이 재건축… 투기 불씨 경계해야',), ('[사설]“민생 최우선” 외치더니 절박한 핵심법안 외면한 與野',), ('[단독]조희대 대법원장, 미혼아들 빼고 부부만 공관 입주… 김명수 땐 아들 부부 함께 살아 ‘공관 재테크’ 논란',), ('서정희, ♥6살 연하 남친 얼굴 최초 공개…김원효 “잘 생겼다”',), ('20대보다 많은 70대 인구…근손실부터 막아야 ‘무병장수’',), ('[사설]소아당뇨 딸 키우던 일가족 비극… ‘건보·치료 그늘’ 살펴야',), ('[사설]당정 “290만 명 신용사면”… 이러다 금융 질서 근간 흔들릴 것',), ('[사설]70대 이상 인구 20대 추월, 목표도 대책도 없는 ‘늙은 한국’',), ('이재명측 “당분간 출석 어렵다” vs 재판부 “그러면 끝 없어…李없어도 23일 재개”',), ('엄마는 환자, 나는 중환자[나민애의 시가 깃든 삶]〈432〉',), ('[광화문에서/김상운]외교 대가 키신저가 남긴 한반도 정세의 교훈',), ('[오늘과 내일/장원재]서울대병원이 침묵한 대가',), ('[사설]美英 ‘홍해 군사작전’ 개시… 물류-인플레 대란 대비해야',), ('[사설]포스코 지주 이사회 호화 출장… 이래서 ‘참호’란 말 나오는 것',), ('[사설]시동 건 제3지대… 이합집산 넘어선 새 정치 비전 내놔야',), ('[사설]60대 이상이 20대 이하 첫 추월 한 제조업 취업자 수',), ('[사설]지역구 출마 사퇴시한 1년으로 늘려 불공정 시비 막아야',), ('[사설]‘親美 총통, 親中 1당’ 대만… 시험대 오른 韓 외교-안보-공급망',)]\n"
     ]
    }
   ],
   "source": [
    "# for key0 in keys0:\n",
    "\n",
    "dics4 = pickle.loads(r4.get(next(k_iter).decode()))\n",
    "gid_list=dics4['gids']\n",
    "print(len(gid_list))\n",
    "cursor.execute(\n",
    "f\"\"\"\n",
    "select title from news_recommend.news_ago where gid in ({','.join(map(str,gid_list))})\n",
    "\"\"\"\n",
    ")\n",
    "print(cursor.fetchall())"
   ]
  },
  {
   "cell_type": "code",
   "execution_count": 133,
   "metadata": {},
   "outputs": [
    {
     "name": "stdout",
     "output_type": "stream",
     "text": [
      "[ 1  5 10  3  8  9  9  7  5  5  7  3  3  1  4  4  6  6  0  0  0  8  3  0\n",
      "  1  7  3  2  6  1  2  2  1  8]\n"
     ]
    },
    {
     "name": "stderr",
     "output_type": "stream",
     "text": [
      "/home/donga/projects/news_rec_SON/venv/lib/python3.11/site-packages/sklearn/cluster/_agglomerative.py:1006: FutureWarning: Attribute `affinity` was deprecated in version 1.2 and will be removed in 1.4. Use `metric` instead\n",
      "  warnings.warn(\n"
     ]
    }
   ],
   "source": [
    "from sklearn.cluster import AgglomerativeClustering\n",
    "mat = r2.get('mat')\n",
    "tot_mat = np.frombuffer(mat, dtype='float32').reshape(-1, 50).copy()\n",
    "a = r2.get('title')\n",
    "title_list = np.frombuffer(a, dtype='U59')\n",
    "vecs = dics4['vecs']\n",
    "# print(vecs)\n",
    "\n",
    "cluster = AgglomerativeClustering(n_clusters=len(vecs)//3 , affinity='euclidean', linkage='ward')\n",
    "result = cluster.fit_predict(vecs)\n",
    "print(result)"
   ]
  },
  {
   "cell_type": "code",
   "execution_count": 149,
   "metadata": {},
   "outputs": [
    {
     "name": "stdout",
     "output_type": "stream",
     "text": [
      "[4 5 3 5 2 3 3 3 3 2 1]\n",
      "[('[단독]조희대 대법원장, 미혼아들 빼고 부부만 공관 입주… 김명수 땐 아들 부부 함께 살아 ‘공관 재테크’ 논란',)]\n",
      "[398 326 211  49 438]\n"
     ]
    },
    {
     "data": {
      "text/plain": [
       "array(['[단독]조희대 대법원장, 미혼아들 빼고 부부만 공관 입주… 김명수 땐 아들 부부 함께 살아 ‘공관 재테크’',\n",
       "       '‘이혼 소송’ 집주인 아내와 계약했다 전세금 잃어[부동산 빨간펜]',\n",
       "       '이혼 소송 집주인 아내와 전세계약… 보증금 잃어[부동산 빨간펜]',\n",
       "       '‘성접대 의혹’ 윤중천의 前내연녀, 무고혐의 무죄 확정',\n",
       "       '권익위 “공익신고자 보상금 한도 폐지·변호사 수당 지원”'], dtype='<U59')"
      ]
     },
     "execution_count": 149,
     "metadata": {},
     "output_type": "execute_result"
    }
   ],
   "source": [
    "i=-3\n",
    "vecs0 = np.array(vecs)\n",
    "counts0 = np.bincount(result)\n",
    "print(counts0)\n",
    "\n",
    "rank_index = np.argsort(- counts0)\n",
    "\n",
    "origin_gid = np.array(gid_list)[np.where(result==rank_index[i])]\n",
    "cursor.execute(\n",
    "f\"\"\"\n",
    "select title from news_recommend.news_ago where gid in ({','.join(map(str,origin_gid))})\n",
    "\"\"\"\n",
    ")\n",
    "print(cursor.fetchall())\n",
    "\n",
    "target = np.mean(vecs0[result ==rank_index[i]],axis=-2)\n",
    "sorted_g = np.argsort(np.matmul(tot_mat, target))[::-1][:5]\n",
    "print(sorted_g)\n",
    "title_list[sorted_g]"
   ]
  },
  {
   "cell_type": "code",
   "execution_count": 170,
   "metadata": {},
   "outputs": [
    {
     "name": "stdout",
     "output_type": "stream",
     "text": [
      "[-1.618208    1.0348692   0.42492434 -1.7336738   0.6218814  -1.4513692\n",
      " -0.63769066  0.539894   -0.7374564  -3.4280167   0.14357859 -0.16668685\n",
      " -1.3971032  -1.5876917  -1.5253968   0.32709736  1.8902465   5.132265\n",
      " -3.1115003  -2.319396   -1.8093076  -1.5893126  -1.8147141  -0.34097227\n",
      "  0.15483183 -2.3096697  -1.5637273   0.26384577  1.0001986   1.153614\n",
      "  0.83362174  0.31594843  1.7391187  -0.06302483 -1.7812443   1.1067866\n",
      " -0.05768659 -2.203899    0.7471831   0.67350554  1.054228    0.36416668\n",
      " -0.7534073  -4.203669    0.83714473  0.72690827 -3.3749812   0.79439294\n",
      "  0.21606913  2.7670186 ]\n",
      "[148.23466    25.940351   54.93099    80.38534    63.04059    21.111181\n",
      "  21.111181   63.086777   -1.4543428  -1.4543428  63.086777   70.33966\n",
      "  41.892902   94.70937    54.92479    54.92479    -2.991113   10.58662\n",
      "   6.286761   15.197531   37.866913   35.755886   72.78382    31.847176\n",
      "  50.329815   67.59566    35.89006    -9.674496   25.10624    58.14322\n",
      "  26.30915    67.029495   89.98603    41.041016 ]\n"
     ]
    }
   ],
   "source": [
    "first0 = vecs0[0]\n",
    "print(first0)\n",
    "points = np.matmul(vecs, first0)\n",
    "print(points)\n",
    "rank0 = np.argsort(points)\n",
    "op_first0 = vecs0[rank0[0]]"
   ]
  },
  {
   "cell_type": "code",
   "execution_count": 175,
   "metadata": {},
   "outputs": [
    {
     "name": "stdout",
     "output_type": "stream",
     "text": [
      "[274 150 829 130 158]\n"
     ]
    },
    {
     "data": {
      "text/plain": [
       "array(['재판중인 이재명-노웅래, 1심 실형 황운하… 野 ‘출마 적격’ 논란',\n",
       "       '위원장 셀프민원 공방속… 방심위, 야권위원 2명 해촉건의 ‘충돌’',\n",
       "       '한동훈, ‘차기 대통령 선호도’ 최고치…이재명 바짝 추격',\n",
       "       '[김순덕의 도발]전쟁 같은 정치라고? 다수 국민은 ‘중도파’다', '野공관위 “증오-폭력발언, 공천에 반영”'],\n",
       "      dtype='<U59')"
      ]
     },
     "execution_count": 175,
     "metadata": {},
     "output_type": "execute_result"
    }
   ],
   "source": [
    "sorted_g = np.argsort(np.matmul(tot_mat, first0))[::-1][:5]\n",
    "print(sorted_g)\n",
    "title_list[sorted_g]"
   ]
  }
 ],
 "metadata": {
  "kernelspec": {
   "display_name": "venv",
   "language": "python",
   "name": "python3"
  },
  "language_info": {
   "codemirror_mode": {
    "name": "ipython",
    "version": 3
   },
   "file_extension": ".py",
   "mimetype": "text/x-python",
   "name": "python",
   "nbconvert_exporter": "python",
   "pygments_lexer": "ipython3",
   "version": "3.11.2"
  }
 },
 "nbformat": 4,
 "nbformat_minor": 2
}
