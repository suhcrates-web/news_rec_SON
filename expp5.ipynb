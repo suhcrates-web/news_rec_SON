{
 "cells": [
  {
   "cell_type": "code",
   "execution_count": 12,
   "metadata": {},
   "outputs": [
    {
     "name": "stdout",
     "output_type": "stream",
     "text": [
      "{\"0\":{\"title\":\"완연한 봄 날씨에 가벼운 옷차림 산책 나온 시민들…“포근해요”\",\"url\":\"https://www.donga.com/news/Society/article/all/20240214/123517761/1\",\"thumburl\":\"https://dimg.donga.com/wps/NEWS/IMAGE/2024/02/14/123517748.2.jpg\"},\"1\":{\"title\":\"기차·렌터카·숙박 할인이 쏟아진다…문체부 3월 ‘여행가는 달’\",\"url\":\"https://www.donga.com/news/Culture/article/all/20240214/123508071/1\",\"thumburl\":\"https://dimg.donga.com/wps/NEWS/IMAGE/2024/02/14/123507953.2.jpg\"},\"2\":{\"title\":\"GTX 개발 호재 덕 봤나?…수도권 아파트 절반이 ‘상승 거래’\",\"url\":\"https://www.donga.com/news/Economy/article/all/20240212/123486036/1\",\"thumburl\":\"https://dimg.donga.com/wps/NEWS/IMAGE/2024/02/12/123485925.2.jpg\"},\"3\":{\"title\":\"[아파트 미리보기]청담동에 ‘수직 숲’ 하이엔드 주거시설\",\"url\":\"https://www.donga.com/news/Economy/article/all/20240212/123488219/1\",\"thumburl\":\"https://dimg.donga.com/wps/NEWS/IMAGE/2024/02/12/123488213.2.jpg\"},\"4\":{\"title\":\"“술 취해 집에 안간다고”…직장동료 복부 때려 숨지게 한 50대 ‘실형’\",\"url\":\"https://www.donga.com/news/Society/article/all/20240213/123492378/1\",\"thumburl\":\"https://dimg.donga.com/wps/NEWS/IMAGE/2024/02/13/123492363.2.jpg\"},\"5\":{\"title\":\"소음측정 들이대도 “우리 애가 뛴다는 증거 있어요?”…공동조사도 불응[층간소음 이렇게 푼다]\",\"url\":\"https://www.donga.com/news/Society/article/all/20240214/123508631/1\",\"thumburl\":\"https://dimg.donga.com/wps/NEWS/IMAGE/2024/02/14/123508870.1.jpg\"},\"6\":{\"title\":\"집에서 경찰관 음주측정 거부한 50대 女, 2심서 무죄…왜?\",\"url\":\"https://www.donga.com/news/Society/article/all/20240214/123516844/2\",\"thumburl\":\"https://dimg.donga.com/wps/NEWS/IMAGE/2024/02/14/123516836.2.jpg\"},\"7\":{\"title\":\"‘소방관 2명 순직’ 문경 119, 정원 못채운 채 출동\",\"url\":\"https://www.donga.com/news/Society/article/all/20240213/123504641/1\",\"thumburl\":\"https://dimg.donga.com/wps/NEWS/IMAGE/2024/02/01/123331250.1.jpg\"},\"8\":{\"title\":\"“또 엄마한테 일러라”…초등 2학년 목 조르고 막말한 담임교사\",\"url\":\"https://www.donga.com/news/Society/article/all/20240213/123499117/2\",\"thumburl\":\"https://dimg.donga.com/wps/NEWS/IMAGE/2024/02/13/123499106.2.jpg\"},\"9\":{\"title\":\"술취해 행인 때려죽인 40대 징역 5년…檢 “반성 부족” 항소\",\"url\":\"https://www.donga.com/news/Society/article/all/20240213/123499974/1\",\"thumburl\":\"https://dimg.donga.com/wps/NEWS/IMAGE/2024/02/13/123499861.2.jpg\"},\"10\":{\"title\":\"여경 있는 사무실에서 웃통 벗은 해경 간부…法 “징계 적법”\",\"url\":\"https://www.donga.com/news/Society/article/all/20240213/123489830/2\",\"thumburl\":\"https://dimg.donga.com/wps/NEWS/IMAGE/2024/02/13/123341842.4.jpg\"},\"11\":{\"title\":\"화장실 옆 칸서 소변보는 친구 훔쳐본 중학생…법원 “학교폭력”\",\"url\":\"https://www.donga.com/news/Society/article/all/20240214/123509461/2\",\"thumburl\":\"https://dimg.donga.com/wps/NEWS/IMAGE/2024/02/14/123509339.2.jpg\"}}\n"
     ]
    }
   ],
   "source": [
    "import requests\n",
    "\n",
    "temp = requests.get('http://10.0.203.23:8002/gainhwa/2e1c5c315aa6f4d2abfc18b8a0ca7e298e907dd8714a31243e726d08da2f802e')\n",
    "print(temp.content.decode())"
   ]
  }
 ],
 "metadata": {
  "kernelspec": {
   "display_name": "venv",
   "language": "python",
   "name": "python3"
  },
  "language_info": {
   "codemirror_mode": {
    "name": "ipython",
    "version": 3
   },
   "file_extension": ".py",
   "mimetype": "text/x-python",
   "name": "python",
   "nbconvert_exporter": "python",
   "pygments_lexer": "ipython3",
   "version": "3.11.2"
  }
 },
 "nbformat": 4,
 "nbformat_minor": 2
}
