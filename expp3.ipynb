{
 "cells": [
  {
   "cell_type": "code",
   "execution_count": 1,
   "metadata": {},
   "outputs": [],
   "source": [
    "import redis\n",
    "from redis import ConnectionPool\n",
    "import numpy as np\n",
    "import pickle\n",
    "from collections import defaultdict\n",
    "pool1 = ConnectionPool(host='localhost', port=6379, db=1)\n",
    "r1 = redis.Redis(connection_pool=pool1)\n",
    "pool4 = ConnectionPool(host='localhost', port=6379, db=4)\n",
    "r4 = redis.Redis(connection_pool=pool4)\n",
    "pool2 = ConnectionPool(host='localhost', port=6379, db=2)\n",
    "r2 = redis.Redis(connection_pool=pool2)\n",
    "pool3 = ConnectionPool(host='localhost', port=6379, db=3)\n",
    "r3 = redis.Redis(connection_pool=pool3)\n"
   ]
  },
  {
   "cell_type": "code",
   "execution_count": 2,
   "metadata": {},
   "outputs": [],
   "source": [
    "#===========테스트용============ㄱ\n",
    "ga_s= r4.keys()\n"
   ]
  },
  {
   "cell_type": "code",
   "execution_count": 3,
   "metadata": {},
   "outputs": [
    {
     "name": "stdout",
     "output_type": "stream",
     "text": [
      "2e1c5c315aa6f4d2abfc18b8a0ca7e298e907dd8714a31243e726d08da2f802e\n"
     ]
    }
   ],
   "source": [
    "ga = ga_s[14].decode()\n",
    "print(ga)\n",
    "#===============================ㄴ"
   ]
  },
  {
   "cell_type": "code",
   "execution_count": 7,
   "metadata": {},
   "outputs": [
    {
     "name": "stdout",
     "output_type": "stream",
     "text": [
      "4\n"
     ]
    }
   ],
   "source": [
    "# ga='123'\n",
    "\n",
    "\n",
    "## 개인 열람 기록\n",
    "seed_4 = r4.get(ga)\n",
    "if seed_4 ==None: # 기사를 본적이 없는 ga\n",
    "    print('return None') # '없음' 신호 넘김\n",
    "    # return \"None\"\n",
    "    # break\n",
    "\n",
    "#\n",
    "\n",
    "dics4 = pickle.loads(seed_4)  # 기사 열람기록 + vector\n",
    "# print(dics4['vecs'])\n",
    "vec_len = len(dics4['vecs'])\n",
    "print(vec_len)\n",
    "\n",
    "history = r3.get(ga)   # 추천기록\n",
    "history = pickle.loads(history) if history!=None else defaultdict(int)\n",
    "out_list = np.array([k for k, v in history.items() if v >= 3])\n",
    "# reversep = history['read']\n",
    "\n",
    "## 전체 mat\n",
    "mat = r2.get('mat')\n",
    "mat = np.frombuffer(mat, dtype='float32').reshape(-1, 50).copy()\n",
    "gid_list = np.frombuffer(r2.get('gid'), dtype='U9')\n",
    "title_list = np.frombuffer(r2.get('title'), dtype='U59')\n",
    "url_list = np.frombuffer(r2.get('url'), dtype='U68')\n",
    "thumburl_list = np.frombuffer(r2.get('thumburl'), dtype='U65')\n",
    "\n",
    "### de_index 설정\n",
    "del_index = np.where(np.isin(gid_list, out_list))\n",
    "mat[del_index] =0"
   ]
  },
  {
   "cell_type": "code",
   "execution_count": 14,
   "metadata": {},
   "outputs": [
    {
     "name": "stdout",
     "output_type": "stream",
     "text": [
      "여긴가\n"
     ]
    }
   ],
   "source": [
    "if vec_len == 1:\n",
    "    vec = dics4['vecs'][0]\n",
    "    sorted_g = np.argsort(np.matmul(mat, vec))[::-1]\n",
    "    first0 = sorted_g[:9]\n",
    "    last0 = sorted_g[-5:]\n",
    "    pallet = [[first0, 9], [last0,3]]\n",
    "\n",
    "elif vec_len ==2:\n",
    "    first_vec = dics4['vecs'][-1]  # 멘 뒤에있는게 최신\n",
    "    last_vec = dics4['vecs'][0]\n",
    "    first0 = np.argsort(np.matmul(mat, first_vec))[::-1][:6]\n",
    "    mat[first0] = 0\n",
    "    sorted_last = np.argsort(np.matmul(mat, last_vec))[::-1]\n",
    "    last0 = sorted_last[:12]\n",
    "    pallet = [[first0, 6], [last0,6]]\n",
    "else:\n",
    "    print(\"여긴가\")\n",
    "    indiv_mat = np.array(dics4['vecs'])\n",
    "    first_vec = indiv_mat[-1].copy()\n",
    "    ordered0 = np.argsort(np.matmul(indiv_mat, first_vec))[::-1]\n",
    "    middle_vec = indiv_mat[ordered0[len(ordered0)//2]]\n",
    "    last_vec = indiv_mat[ordered0[-1]]\n",
    "\n",
    "    first0 = np.argsort(np.matmul(mat, first_vec))[::-1][:6]\n",
    "    mat[first0] = 0\n",
    "    middle0 = np.argsort(np.matmul(mat, middle_vec))[::-1][:6]\n",
    "    mat[middle0] = 0\n",
    "    sorted_last = np.argsort(np.matmul(mat, last_vec))[::-1]\n",
    "    last0 = sorted_last[:6]\n",
    "    pallet = [[first0,4], [middle0,4], [last0,4]]\n",
    "\n",
    "\n"
   ]
  },
  {
   "cell_type": "code",
   "execution_count": 15,
   "metadata": {},
   "outputs": [
    {
     "name": "stdout",
     "output_type": "stream",
     "text": [
      "{0: {'title': '[광화문에서/유성열]유권자들의 마음을 다른 걸로 잡을 순 없나', 'url': 'https://www.donga.com/news/Column/article/all/20240118/123124675/1', 'thumburl': 'https://dimg.donga.com/wps/NEWS/IMAGE/2024/01/18/123124673.1.jpg'}, 1: {'title': '김종인 “신당 세력들 각자도생 안 돼…단일대오로 총선 맞이하길”', 'url': 'https://www.donga.com/news/Politics/article/all/20240120/123145637/2', 'thumburl': 'https://dimg.donga.com/wps/NEWS/IMAGE/2024/01/20/123146224.1.jpg'}, 2: {'title': '민주 탈당-공천 잡음에 ‘지지율 정체’…이재명 공천 관리 ‘난제’', 'url': 'https://www.donga.com/news/Politics/article/all/20240121/123150112/1', 'thumburl': 'https://dimg.donga.com/wps/NEWS/IMAGE/2024/01/21/123150035.2.jpg'}, 3: {'title': '류호정 “‘비례연합정당’ 민주당 주도 아니라는 건 손바닥으로 하늘 가리는 소리”[중립기어 라이브]', 'url': 'https://www.donga.com/news/Politics/article/all/20240118/123122122/1', 'thumburl': 'https://dimg.donga.com/wps/NEWS/IMAGE/2024/01/18/123122114.1.png'}, 4: {'title': '‘이태원 참사 재판’ 가는 김광호…‘세월호’ 못지않은 법리 다툼 예고', 'url': 'https://www.donga.com/news/Society/article/all/20240119/123136859/1', 'thumburl': 'https://dimg.donga.com/wps/NEWS/IMAGE/2024/01/19/123137344.2.jpg'}, 5: {'title': 'LH, 중대 부실시공 업체 입찰자격 박탈한다', 'url': 'https://www.donga.com/news/Economy/article/all/20240121/123159239/1', 'thumburl': ''}, 6: {'title': '민주 “이재명 테러, 1차 책임은 안보실·국정원…조롱글 삭제하라”', 'url': 'https://www.donga.com/news/Politics/article/all/20240121/123152237/1', 'thumburl': 'https://dimg.donga.com/wps/NEWS/IMAGE/2024/01/21/123152104.2.jpg'}, 7: {'title': '김용 측 “‘알리바이 위증교사’ 조직적 시도 없었다…검찰 허구 드러날 것”', 'url': 'https://www.donga.com/news/Society/article/all/20240121/123153697/1', 'thumburl': 'https://dimg.donga.com/wps/NEWS/IMAGE/2024/01/21/123153694.2.jpg'}, 8: {'title': '경찰 “방심위 사건, 상호 맞고발 성격…수사 주체 구분해서 진행 중”', 'url': 'https://www.donga.com/news/Society/article/all/20240122/123167485/1', 'thumburl': 'https://dimg.donga.com/wps/NEWS/IMAGE/2024/01/22/123167399.2.jpg'}, 9: {'title': '‘돈봉투 의혹’ 송영길 재판 연기 신청…“기록 복사도 못했다”', 'url': 'https://www.donga.com/news/Society/article/all/20240119/123134951/1', 'thumburl': 'https://dimg.donga.com/wps/NEWS/IMAGE/2024/01/19/123134915.2.jpg'}, 10: {'title': '‘청담동 술자리 의혹 제기’ 野 김의겸, 검찰 송치', 'url': 'https://www.donga.com/news/Society/article/all/20240121/123159028/1', 'thumburl': 'https://dimg.donga.com/wps/NEWS/IMAGE/2024/01/21/123158129.2.jpg'}, 11: {'title': '‘이재명 공직선거법 위반 혐의’ 재판부 “총선 전 선고 힘들다” 해명', 'url': 'https://www.donga.com/news/Society/article/all/20240119/123137964/1', 'thumburl': 'https://dimg.donga.com/wps/NEWS/IMAGE/2024/01/19/123132464.3.jpg'}}\n",
      "return dics1\n"
     ]
    }
   ],
   "source": [
    "top12 = []\n",
    "for list0, limit0 in pallet:\n",
    "    temp_n = 0\n",
    "    for ind0 in list0:\n",
    "        if ind0 not in top12:\n",
    "            top12.append(ind0)\n",
    "            temp_n +=1\n",
    "            if temp_n >=limit0:\n",
    "                break\n",
    "dics1 = {}\n",
    "for i, x in enumerate(top12):\n",
    "    dics1[i] = {'title': title_list[x], 'url': url_list[x], 'thumburl': thumburl_list[x]}\n",
    "\n",
    "    ### history update\n",
    "    gid0 = gid_list[x]\n",
    "    history[gid0] += 0.5\n",
    "    r3.set(ga, pickle.dumps(history))\n",
    "    r3.expire(ga, 600)\n",
    "print(dics1)\n",
    "# return dics1\n",
    "print('return dics1')"
   ]
  },
  {
   "cell_type": "code",
   "execution_count": null,
   "metadata": {},
   "outputs": [],
   "source": [
    "#==================="
   ]
  },
  {
   "cell_type": "code",
   "execution_count": 17,
   "metadata": {},
   "outputs": [
    {
     "name": "stdout",
     "output_type": "stream",
     "text": [
      "3\n",
      "4\n"
     ]
    }
   ],
   "source": [
    "a=[1,2,3,4,5,6,7]\n",
    "n = len(a)//2\n",
    "print(n)\n",
    "print(a[n])"
   ]
  },
  {
   "cell_type": "code",
   "execution_count": 2,
   "metadata": {},
   "outputs": [],
   "source": [
    "ga_s= r4.keys()"
   ]
  },
  {
   "cell_type": "code",
   "execution_count": 4,
   "metadata": {},
   "outputs": [],
   "source": [
    "for ga in ga_s:\n",
    "    if not (type(pickle.loads(r4.get(ga))['vecs'])==list):\n",
    "        print(ga)"
   ]
  },
  {
   "cell_type": "code",
   "execution_count": 22,
   "metadata": {},
   "outputs": [
    {
     "data": {
      "text/plain": [
       "1"
      ]
     },
     "execution_count": 22,
     "metadata": {},
     "output_type": "execute_result"
    }
   ],
   "source": [
    "r4.delete('0d461b1c768d443e6488a37292b4f84ac9bb0de9ef5a8e0b79068f023327ea4a')"
   ]
  }
 ],
 "metadata": {
  "kernelspec": {
   "display_name": "venv",
   "language": "python",
   "name": "python3"
  },
  "language_info": {
   "codemirror_mode": {
    "name": "ipython",
    "version": 3
   },
   "file_extension": ".py",
   "mimetype": "text/x-python",
   "name": "python",
   "nbconvert_exporter": "python",
   "pygments_lexer": "ipython3",
   "version": "3.11.2"
  }
 },
 "nbformat": 4,
 "nbformat_minor": 2
}
